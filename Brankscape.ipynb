{
 "cells": [
  {
   "cell_type": "code",
   "execution_count": 1,
   "metadata": {},
   "outputs": [],
   "source": [
    "import numpy as np\n",
    "import cv2 as cv\n",
    "import os,sys\n",
    "CAP_PATH = input('Input file name:') + \".mp4\"\n",
    "CAP = cv.VideoCapture(CAP_PATH)\n",
    "WIDTH = CAP.get(cv.CAP_PROP_FRAME_WIDTH)\n",
    "HEIGHT = CAP.get(cv.CAP_PROP_FRAME_HEIGHT)\n",
    "FRAME_COUNT = CAP.get(cv.CAP_PROP_FRAME_COUNT)\n",
    "FRAME_RATE = CAP.get(cv.CAP_PROP_FPS)\n",
    "RATIO = int(input('Input frame rate ( original:'+str(int(FRAME_RATE))+'FPS ) :' ))\n",
    "\n"
   ]
  },
  {
   "cell_type": "code",
   "execution_count": 2,
   "metadata": {},
   "outputs": [],
   "source": [
    "def format_color_arr(arr,width,height,frame_count):\n",
    "    a,b,c = int(width),int(height),int(frame_count)\n",
    "    arrr = [[]*c for i in range(a*b)]\n",
    "    arrg = [[]*c for i in range(a*b)]\n",
    "    arrb = [[]*c for i in range(a*b)]\n",
    "    print(\"\\nArray formated as\")\n",
    "    print(str(len(arrr))+\"Pixel\")\n",
    "    for frame in arr:\n",
    "        x=0\n",
    "        for row in frame:\n",
    "            for pixel in row:\n",
    "                arrr[x].append(pixel[0])\n",
    "                arrg[x].append(pixel[1])\n",
    "                arrb[x].append(pixel[2])\n",
    "                x+=1\n",
    "\n",
    "    print(\"\\nArray set as\")\n",
    "    print(str(len(arrr))+\"Pixel\")\n",
    "    print(str(len(arrr[0]))+\"Frame\")\n",
    "    narr = [arrr,arrg,arrb]\n",
    "    return narr\n"
   ]
  },
  {
   "cell_type": "code",
   "execution_count": 3,
   "metadata": {},
   "outputs": [],
   "source": [
    "def make_color_arr(cap):\n",
    "    if not cap.isOpened():\n",
    "        return\n",
    "    img=[]\n",
    "    print('Video Imported as')\n",
    "    print(str(int(WIDTH))+'×'+str(int(HEIGHT)))\n",
    "    print(str(int(FRAME_RATE))+'FPS')\n",
    "    while True:\n",
    "        ret, frame = cap.read()\n",
    "        if ret:\n",
    "            img.append(frame)\n",
    "        else:\n",
    "            imgs=format_color_arr(img,WIDTH,HEIGHT,FRAME_COUNT)\n",
    "            #print(np.ndarray(imgs).shape)\n",
    "            return imgs"
   ]
  },
  {
   "cell_type": "code",
   "execution_count": 4,
   "metadata": {
    "tags": []
   },
   "outputs": [
    {
     "output_type": "stream",
     "name": "stdout",
     "text": "Video Imported as\n480.0×270.0\n30.0FPS\n\nArray formated as\n129600Pixel\n\nArray set as\n129600Pixel\n10Frame\n"
    }
   ],
   "source": [
    "color_arr = make_color_arr(CAP)\n",
    "#color_arr"
   ]
  },
  {
   "cell_type": "code",
   "execution_count": null,
   "metadata": {},
   "outputs": [],
   "source": []
  }
 ],
 "metadata": {
  "kernelspec": {
   "display_name": "Python 3.7.9 64-bit ('Brankscape': conda)",
   "language": "python",
   "name": "python37964bitbrankscapeconda9834eaaa6e5d4ff193b69fda74d728a2"
  },
  "language_info": {
   "codemirror_mode": {
    "name": "ipython",
    "version": 3
   },
   "file_extension": ".py",
   "mimetype": "text/x-python",
   "name": "python",
   "nbconvert_exporter": "python",
   "pygments_lexer": "ipython3",
   "version": "3.7.9-final"
  }
 },
 "nbformat": 4,
 "nbformat_minor": 4
}