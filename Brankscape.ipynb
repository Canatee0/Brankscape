{
 "cells": [
  {
   "cell_type": "code",
   "execution_count": 1,
   "metadata": {},
   "outputs": [],
   "source": [
    "import numpy as np\n",
    "import cv2 as cv\n",
    "import os,sys\n",
    "CAP_PATH = input('Input file name:') + \".mp4\"\n",
    "CAP = cv.VideoCapture(CAP_PATH)\n",
    "WIDTH = CAP.get(cv.CAP_PROP_FRAME_WIDTH)\n",
    "HEIGHT = CAP.get(cv.CAP_PROP_FRAME_HEIGHT)\n",
    "FRAME_COUNT = CAP.get(cv.CAP_PROP_FRAME_COUNT)\n",
    "FRAME_RATE = CAP.get(cv.CAP_PROP_FPS)\n",
    "VIDEO_LENGTH = FRAME_COUNT/FRAME_RATE"
   ]
  },
  {
   "cell_type": "code",
   "execution_count": 2,
   "metadata": {},
   "outputs": [],
   "source": [
    "def make_color_arr(cap):\n",
    "    if not cap.isOpened():\n",
    "        return\n",
    "    img=[]\n",
    "    print('Original video imported as')\n",
    "    print(str(int(WIDTH))+'×'+str(int(HEIGHT))+'(Pixel)')\n",
    "    print(str(int(FRAME_RATE))+'FPS '+str(int(FRAME_COUNT))+'Frame')\n",
    "    print(str(VIDEO_LENGTH)+'Sec.')\n",
    "    LOAD_FPS = int(input('Input frame rate ( original:'+str(int(FRAME_RATE))+'FPS ) :' ))\n",
    "    print('\\nThe video imported as '+str(int(LOAD_FPS))+'FPS')\n",
    "    RATIO = int(FRAME_RATE/LOAD_FPS)\n",
    "    framenum = 0\n",
    "    while True:\n",
    "        framenum+=1\n",
    "        ret, frame = cap.read()\n",
    "        if ret and framenum % RATIO == 0:\n",
    "            img.append(frame)\n",
    "            if framenum % FRAME_RATE == 0:\n",
    "                framenum = 0\n",
    "        elif ret == False:\n",
    "            imgs=format_color_arr(img,WIDTH,HEIGHT,VIDEO_LENGTH*LOAD_FPS)\n",
    "            return imgs"
   ]
  },
  {
   "cell_type": "code",
   "execution_count": 3,
   "metadata": {},
   "outputs": [],
   "source": [
    "def format_color_arr(arr,width,height,frame_count):\n",
    "    a,b,c = int(width),int(height),int(frame_count)\n",
    "    arrr = [[]*c for i in range(a*b)]\n",
    "    arrg = [[]*c for i in range(a*b)]\n",
    "    arrb = [[]*c for i in range(a*b)]\n",
    "    print(\"\\nArray formated as\")\n",
    "    print(str(len(arrr))+\"Pixel\")\n",
    "    for frame in arr:\n",
    "        x = 0\n",
    "        for row in frame:\n",
    "            for pixel in row:\n",
    "                arrr[x].append(pixel[0])\n",
    "                arrg[x].append(pixel[1])\n",
    "                arrb[x].append(pixel[2])\n",
    "                x+=1\n",
    "\n",
    "    print(\"\\nArray set as\")\n",
    "    print(str(len(arrr))+\"Pixel\")\n",
    "    print(str(len(arrr[0]))+\"Frame\")\n",
    "    narr = [arrr,arrg,arrb]\n",
    "    return narr\n"
   ]
  },
  {
   "cell_type": "code",
   "execution_count": 4,
   "metadata": {},
   "outputs": [],
   "source": [
    "def mode(arr):\n",
    "    narr = np.array(arr)\n",
    "    nnarr = [[] for i in range(3)]\n",
    "    x = -1\n",
    "    for channel in narr:\n",
    "        x += 1\n",
    "        for pixel in channel:\n",
    "            count=np.bincount(pixel)\n",
    "            mode = np.argmax(count)\n",
    "            nnarr[x].append(mode)\n",
    "    print('\\nPixel moded.')\n",
    "    return nnarr"
   ]
  },
  {
   "cell_type": "code",
   "execution_count": 5,
   "metadata": {},
   "outputs": [],
   "source": [
    "def reconstruct(arr,width,height):\n",
    "    a,b = int(width),int(height)\n",
    "    img = [[]*a for i in range(b)]\n",
    "    y = 0\n",
    "    for row in img:\n",
    "        for pixel in row:\n",
    "            pixel.append(arr[0][x]).append(arr[1][x]).append(arr[2][x])\n",
    "            x += 1\n",
    "        y += 1\n",
    "    print(img)\n",
    "    nimg = np.array(img,np.uint8)\n",
    "    cv.imwrite('result.tif', nimg)\n",
    "    nnimg = cv.cvtColor(nimg, cv.COLOR_BGRA2BGR)\n",
    "    cv.imshow('img',nnimg)\n",
    "    return img"
   ]
  },
  {
   "cell_type": "code",
   "execution_count": 6,
   "metadata": {
    "tags": []
   },
   "outputs": [
    {
     "output_type": "stream",
     "name": "stdout",
     "text": "Original video imported as\n480×270(Pixel)\n30FPS 30Frame\n1.0Sec.\n\nThe video imported as 30FPS\n\nArray formated as\n129600Pixel\n\nArray set as\n129600Pixel\n30Frame\n"
    }
   ],
   "source": [
    "color_arr = make_color_arr(CAP)\n",
    "mode_arr=mode(color_arr)\n",
    "reconstruct(mode_arr,WIDTH,HEIGHT)"
   ]
  },
  {
   "cell_type": "code",
   "execution_count": null,
   "metadata": {},
   "outputs": [],
   "source": []
  }
 ],
 "metadata": {
  "kernelspec": {
   "display_name": "Python 3.7.9 64-bit ('Brankscape': conda)",
   "language": "python",
   "name": "python37964bitbrankscapeconda9834eaaa6e5d4ff193b69fda74d728a2"
  },
  "language_info": {
   "codemirror_mode": {
    "name": "ipython",
    "version": 3
   },
   "file_extension": ".py",
   "mimetype": "text/x-python",
   "name": "python",
   "nbconvert_exporter": "python",
   "pygments_lexer": "ipython3",
   "version": "3.7.9-final"
  }
 },
 "nbformat": 4,
 "nbformat_minor": 4
}